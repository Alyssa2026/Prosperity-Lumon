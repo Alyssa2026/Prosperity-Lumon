{
 "cells": [
  {
   "cell_type": "code",
   "execution_count": null,
   "id": "4b700a83",
   "metadata": {},
   "outputs": [
    {
     "data": {
      "text/plain": [
       "'data/squid_ink_only.csv'"
      ]
     },
     "execution_count": 1,
     "metadata": {},
     "output_type": "execute_result"
    }
   ],
   "source": [
    "import pandas as pd\n",
    "import glob\n",
    "\n",
    "# Load all round 1 and 2 CSVs and annotate with round info\n",
    "csv_files = glob.glob(\"data/prices_round_[12]_day_*.csv\")\n",
    "squid_dataframes = []\n",
    "\n",
    "for file in csv_files:\n",
    "    round_number = int(file.split(\"round_\")[1].split(\"_\")[0])\n",
    "    df = pd.read_csv(file, sep=\";\")\n",
    "    squid_df = df[df[\"product\"] == \"SQUID_INK\"].copy()\n",
    "    squid_df[\"round\"] = round_number\n",
    "    squid_dataframes.append(squid_df)\n",
    "\n",
    "# Combine and save\n",
    "squid_combined = pd.concat(squid_dataframes, ignore_index=True)\n",
    "squid_output_path = \"data/squid_ink_only.csv\"\n",
    "squid_combined.to_csv(squid_output_path, index=False)\n",
    "\n",
    "squid_output_path\n"
   ]
  },
  {
   "cell_type": "code",
   "execution_count": 2,
   "id": "712bf760",
   "metadata": {},
   "outputs": [
    {
     "data": {
      "text/plain": [
       "1946.6743583333334"
      ]
     },
     "execution_count": 2,
     "metadata": {},
     "output_type": "execute_result"
    }
   ],
   "source": [
    "squid_combined[\"mid_price\"].mean()"
   ]
  }
 ],
 "metadata": {
  "kernelspec": {
   "display_name": "Python 3",
   "language": "python",
   "name": "python3"
  },
  "language_info": {
   "codemirror_mode": {
    "name": "ipython",
    "version": 3
   },
   "file_extension": ".py",
   "mimetype": "text/x-python",
   "name": "python",
   "nbconvert_exporter": "python",
   "pygments_lexer": "ipython3",
   "version": "3.12.3"
  }
 },
 "nbformat": 4,
 "nbformat_minor": 5
}
